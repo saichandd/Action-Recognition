{
  "nbformat": 4,
  "nbformat_minor": 0,
  "metadata": {
    "accelerator": "GPU",
    "anaconda-cloud": {},
    "colab": {
      "name": "CSE527_HW5_fall19.ipynb",
      "provenance": [],
      "collapsed_sections": []
    },
    "kernelspec": {
      "name": "python3",
      "display_name": "Python 3"
    },
    "language_info": {
      "codemirror_mode": {
        "name": "ipython",
        "version": 3
      },
      "file_extension": ".py",
      "mimetype": "text/x-python",
      "name": "python",
      "nbconvert_exporter": "python",
      "pygments_lexer": "ipython3",
      "version": "3.6.9"
    }
  },
  "cells": [
    {
      "cell_type": "markdown",
      "metadata": {
        "colab_type": "text",
        "id": "AcamCuuyjYb2"
      },
      "source": [
        "# Action Recognition @ UCF101  \n",
        "**Due date: 11:59 pm on Nov. 19, 2019 (Tuesday)**\n",
        "\n",
        "## Description\n",
        "---\n",
        "In this homework, you will be doing action recognition using Recurrent Neural Network (RNN), (Long-Short Term Memory) LSTM in particular. You will be given a dataset called UCF101, which consists of 101 different actions/classes and for each action, there will be 145 samples. We tagged each sample into either training or testing. Each sample is supposed to be a short video, but we sampled 25 frames from each videos to reduce the amount of data. Consequently, a training sample is an image tuple that forms a 3D volume with one dimension encoding *temporal correlation* between frames and a label indicating what action it is.\n",
        "\n",
        "To tackle this problem, we aim to build a neural network that can not only capture spatial information of each frame but also temporal information between frames. Fortunately, you don't have to do this on your own. RNN — a type of neural network designed to deal with time-series data — is right here for you to use. In particular, you will be using LSTM for this task.\n",
        "\n",
        "Instead of training an end-to-end neural network from scratch whose computation is prohibitively expensive, we divide this into two steps: feature extraction and modelling. Below are the things you need to implement for this homework:\n",
        "- **{35 pts} Feature extraction**. Use any of the [pre-trained models](https://pytorch.org/docs/stable/torchvision/models.html) to extract features from each frame. Specifically, we recommend not to use the activations of the last layer as the features tend to be task specific towards the end of the network. \n",
        "    **hints**: \n",
        "    - A good starting point would be to use a pre-trained VGG16 network, we suggest first fully connected layer `torchvision.models.vgg16` (4096 dim) as features of each video frame. This will result into a 4096x25 matrix for each video. \n",
        "    - Normalize your images using `torchvision.transforms` \n",
        "    ```\n",
        "    normalize = transforms.Normalize(mean=[0.485, 0.456, 0.406], std=[0.229, 0.224, 0.225])\n",
        "    prep = transforms.Compose([ transforms.ToTensor(), normalize ])\n",
        "    prep(img)\n",
        "    The mean and std. mentioned above is specific to Imagenet data\n",
        "    \n",
        "    ```\n",
        "    More details of image preprocessing in PyTorch can be found at http://pytorch.org/tutorials/beginner/data_loading_tutorial.html\n",
        "    \n",
        "- **{35 pts} Modelling**. With the extracted features, build an LSTM network which takes a **dx25** sample as input (where **d** is the dimension of the extracted feature for each frame), and outputs the action label of that sample.\n",
        "- **{20 pts} Evaluation**. After training your network, you need to evaluate your model with the testing data by computing the prediction accuracy **(5 points)**. The baseline test accuracy for this data is 75%, and **10 points** out of 20 is for achieving test accuracy greater than the baseline. Moreover, you need to compare **(5 points)** the result of your network with that of support vector machine (SVM) (stacking the **dx25** feature matrix to a long vector and train a SVM).\n",
        "- **{10 pts} Report**. Details regarding the report can be found in the submission section below.\n",
        "\n",
        "Notice that the size of the raw images is 256x340, whereas your pre-trained model might take **nxn** images as inputs. To solve this problem, instead of resizing the images which unfavorably changes the spatial ratio, we take a better solution: Cropping five **nxn** images, one at the image center and four at the corners and compute the **d**-dim features for each of them, and average these five **d**-dim feature to get a final feature representation for the raw image.\n",
        "For example, VGG takes 224x224 images as inputs, so we take the five 224x224 croppings of the image, compute 4096-dim VGG features for each of them, and then take the mean of these five 4096-dim vectors to be the representation of the image.\n",
        "\n",
        "In order to save you computational time, you need to do the classification task only for **the first 25** classes of the whole dataset. The same applies to those who have access to GPUs. **Bonus 10 points for running and reporting on the entire 101 classes.**\n",
        "\n",
        "\n",
        "## Dataset\n",
        "Download **dataset** at [UCF101](http://vision.cs.stonybrook.edu/~yangwang/public/UCF101_images.tar)(Image data for each video) and the **annos folder** which has the video labels and the label to class name mapping is included in the assignment folder uploaded. \n",
        "\n",
        "\n",
        "UCF101 dataset contains 101 actions and 13,320 videos in total.  \n",
        "\n",
        "+ `annos/actions.txt`  \n",
        "  + lists all the actions (`ApplyEyeMakeup`, .., `YoYo`)   \n",
        "  \n",
        "+ `annots/videos_labels_subsets.txt`  \n",
        "  + lists all the videos (`v_000001`, .., `v_013320`)  \n",
        "  + labels (`1`, .., `101`)  \n",
        "  + subsets (`1` for train, `2` for test)  \n",
        "\n",
        "+ `images/`  \n",
        "  + each folder represents a video\n",
        "  + the video/folder name to class mapping can be found using `annots/videos_labels_subsets.txt`, for e.g. `v_000001` belongs to class 1 i.e. `ApplyEyeMakeup`\n",
        "  + each video folder contains 25 frames  \n",
        "\n",
        "\n",
        "\n",
        "## Some Tutorials\n",
        "- Good materials for understanding RNN and LSTM\n",
        "    - http://blog.echen.me\n",
        "    - http://karpathy.github.io/2015/05/21/rnn-effectiveness/\n",
        "    - http://colah.github.io/posts/2015-08-Understanding-LSTMs/\n",
        "- Implementing RNN and LSTM with PyTorch\n",
        "    - [LSTM with PyTorch](http://pytorch.org/tutorials/beginner/nlp/sequence_models_tutorial.html#sphx-glr-beginner-nlp-sequence-models-tutorial-py)\n",
        "    - [RNN with PyTorch](http://pytorch.org/tutorials/intermediate/char_rnn_classification_tutorial.html)"
      ]
    },
    {
      "cell_type": "code",
      "metadata": {
        "id": "sGDDwR8ZMhu3",
        "colab_type": "code",
        "colab": {
          "base_uri": "https://localhost:8080/",
          "height": 118
        },
        "outputId": "de6fe437-f6c8-4976-ce92-f8f24464b3c4"
      },
      "source": [
        "# Mount your google drive where you've saved your assignment folder\n",
        "from google.colab import drive\n",
        "drive.mount('/content/gdrive')"
      ],
      "execution_count": 4,
      "outputs": [
        {
          "output_type": "stream",
          "text": [
            "Go to this URL in a browser: https://accounts.google.com/o/oauth2/auth?client_id=947318989803-6bn6qk8qdgf4n4g3pfee6491hc0brc4i.apps.googleusercontent.com&redirect_uri=urn%3aietf%3awg%3aoauth%3a2.0%3aoob&response_type=code&scope=email%20https%3a%2f%2fwww.googleapis.com%2fauth%2fdocs.test%20https%3a%2f%2fwww.googleapis.com%2fauth%2fdrive%20https%3a%2f%2fwww.googleapis.com%2fauth%2fdrive.photos.readonly%20https%3a%2f%2fwww.googleapis.com%2fauth%2fpeopleapi.readonly\n",
            "\n",
            "Enter your authorization code:\n",
            "··········\n",
            "Mounted at /content/gdrive\n"
          ],
          "name": "stdout"
        }
      ]
    },
    {
      "cell_type": "code",
      "metadata": {
        "id": "X_4B5Nlp3Vlw",
        "colab_type": "code",
        "colab": {
          "base_uri": "https://localhost:8080/",
          "height": 33
        },
        "outputId": "bf949df9-f0f9-429f-ffce-6443bc31f27c"
      },
      "source": [
        "# Set your working directory (in your google drive)\n",
        "# Note that 'gdrive/My Drive/Y2019Fall/CSE-527-Intro-To-Computer-Vision/hw4' is just an example, \n",
        "#   change it to your specific homework directory.\n",
        "cd '/content/gdrive/My Drive/Duppala_Sai_112684112_hw5'"
      ],
      "execution_count": 5,
      "outputs": [
        {
          "output_type": "stream",
          "text": [
            "/content/gdrive/My Drive/Duppala_Sai_112684112_hw5\n"
          ],
          "name": "stdout"
        }
      ]
    },
    {
      "cell_type": "code",
      "metadata": {
        "id": "GbM1s8Jx25Md",
        "colab_type": "code",
        "colab": {}
      },
      "source": [
        "# import packages here\n",
        "import cv2\n",
        "import numpy as np\n",
        "import matplotlib.pyplot as plt\n",
        "import glob\n",
        "import random \n",
        "import time\n",
        "\n",
        "from torchvision import datasets, models, transforms\n",
        "# import os\n",
        "\n",
        "# import cv2, subprocess\n",
        "# import os, sys, collections, random, string\n",
        "# # from scipy import ndimage\n",
        "# from datetime import datetime\n",
        "import torchvision.models as models\n",
        "# from torchvision.transforms import ToTensor\n",
        "# from PIL import Image\n",
        "# import pickle\n",
        "# from numpy import genfromtxt\n",
        "\n",
        "\n",
        "import torch\n",
        "import torch.nn as nn\n",
        "import torch.optim as optim\n",
        "from torch.autograd import Variable\n",
        "from torch.utils.data import DataLoader,sampler,Dataset\n",
        "import torchvision.datasets as dset\n",
        "import torchvision.transforms as T\n",
        "import timeit\n",
        "from PIL import Image\n",
        "import os\n",
        "import numpy as np\n",
        "import scipy.io\n",
        "import torchvision.models.inception as inception\n",
        "\n",
        "from tqdm import tqdm\n",
        "from torch.utils.data.sampler import SequentialSampler\n",
        "from torch.utils.data.sampler import Sampler\n",
        "\n",
        "\n",
        "# os.environ['CUDA_LAUNCH_BLOCKING'] = \"1\""
      ],
      "execution_count": 0,
      "outputs": []
    },
    {
      "cell_type": "code",
      "metadata": {
        "id": "Y6jdbXnxMJPs",
        "colab_type": "code",
        "colab": {}
      },
      "source": [
        "# !tar -xvf  '/content/drive/My Drive/Duppala_Sai_112684112_hw5/UCF101_images.tar' -C '/content/drive/My Drive/Duppala_Sai_112684112_hw5'"
      ],
      "execution_count": 0,
      "outputs": []
    },
    {
      "cell_type": "markdown",
      "metadata": {
        "colab_type": "text",
        "id": "UdCRwkL7jxtc"
      },
      "source": [
        "---\n",
        "---\n",
        "## **Problem 1.** Feature extraction"
      ]
    },
    {
      "cell_type": "code",
      "metadata": {
        "id": "7JuRwTwJrdX2",
        "colab_type": "code",
        "colab": {}
      },
      "source": [
        "n_classes = 25\n",
        "samples_per_class = 145\n",
        "\n",
        "tot_folders = n_classes*samples_per_class\n",
        "\n",
        "\n",
        "label_train = []\n",
        "label_test = []\n",
        "\n",
        "label_all = []"
      ],
      "execution_count": 0,
      "outputs": []
    },
    {
      "cell_type": "code",
      "metadata": {
        "id": "zoLHSCBDnoKC",
        "colab_type": "code",
        "colab": {}
      },
      "source": [
        "#get file names for training and testing\n",
        "# bv\n",
        "with open(\"./annos/videos_labels_subsets.txt\", \"r\") as file:\n",
        "    array = []\n",
        "    for (i,line) in enumerate(file):\n",
        "        if i < tot_folders:\n",
        "            l = line[:-1].split('\\t');\n",
        "            label_all.append(l[1])\n"
      ],
      "execution_count": 0,
      "outputs": []
    },
    {
      "cell_type": "code",
      "metadata": {
        "id": "ua5xjMJIWPEJ",
        "colab_type": "code",
        "colab": {}
      },
      "source": [
        "all_indices = []\n",
        "all_labels = []\n",
        "all_indicies_labels = []\n",
        "for i,e in enumerate(label_all):\n",
        "    if i % 15 == 0:\n",
        "        for j in range(i*25,(i+1)*25):\n",
        "            all_indices.append(j)\n",
        "            all_indicies_labels.append(e)\n",
        "        all_labels.append(e)\n"
      ],
      "execution_count": 0,
      "outputs": []
    },
    {
      "cell_type": "code",
      "metadata": {
        "id": "9uac25p3MAce",
        "colab_type": "code",
        "colab": {}
      },
      "source": [
        "class ActionDataset(Dataset):\n",
        "    \n",
        "    def __init__(self,  root_dir,labels=[], transform=None):\n",
        "        # root_dir (string): Directory with all the images.\n",
        "        # labels (list): labels if images.\n",
        "        # transform (callable, optional): Optional transform to be applied on a sample.\n",
        "\n",
        "        self.root_dir = root_dir\n",
        "        self.transform = transform\n",
        "        # self.length=len(os.listdir(self.root_dir))\n",
        "        #total number of folders - we dont need all for 25 classes\n",
        "        self.length = tot_folders\n",
        "        self.labels=labels\n",
        "\n",
        "    def __len__(self):\n",
        "        #3625*25 ?\n",
        "        return self.length*25\n",
        "\n",
        "    def __getitem__(self, idx):\n",
        "        \n",
        "        folder = int(idx/25+1)\n",
        "        imidx = int(idx%25+1)\n",
        "\n",
        "\n",
        "        folder = 'v_' + format(folder,'06d')\n",
        "        imgname = 'i_' + format(imidx, '04d') + '.jpg'\n",
        "\n",
        "        img_path = os.path.join(self.root_dir, folder,imgname)\n",
        "        image = Image.open(img_path)\n",
        "\n",
        "        if len(self.labels) !=0 :\n",
        "            # Label = int(self.labels[int(idx/25)][0]) - 1\n",
        "            Label = int(self.labels[int(idx/25)])\n",
        "\n",
        "        if self.transform:\n",
        "            image = self.transform(image)\n",
        "\n",
        "\n",
        "        if len(self.labels)!=0:\n",
        "            sample={'image':image,'img_path':img_path,'Label':Label}\n",
        "        else:\n",
        "            sample={'image':image,'img_path':img_path}\n",
        "        return sample\n",
        "    "
      ],
      "execution_count": 0,
      "outputs": []
    },
    {
      "cell_type": "code",
      "metadata": {
        "id": "kKtWCU6Akngj",
        "colab_type": "code",
        "colab": {}
      },
      "source": [
        "#change this resize to proper resize\n",
        "my_transform = transforms.Compose([transforms.Resize([224,224]),\n",
        "                                transforms.ToTensor(),\n",
        "                                transforms.Normalize(mean=[0.485, 0.456, 0.406], std=[0.229, 0.224, 0.225])])\n",
        "\n",
        "image_dataset = ActionDataset(root_dir='./images/',labels=label_all,transform=my_transform)\n",
        "\n",
        "image_dataset_sub15 = torch.utils.data.Subset(image_dataset, all_indices)\n",
        "\n",
        "batch_size = 25\n",
        "image_loader = torch.utils.data.DataLoader(\n",
        "        image_dataset_sub15,\n",
        "        batch_size=batch_size,\n",
        "        num_workers=0,\n",
        "        shuffle=False,\n",
        "    )"
      ],
      "execution_count": 0,
      "outputs": []
    },
    {
      "cell_type": "code",
      "metadata": {
        "id": "DOo5FvOM65_v",
        "colab_type": "code",
        "colab": {}
      },
      "source": [
        "#Checking Images Manually\n",
        "plt.imshow(image_dataset_sub15[6000]['image'].permute(1, 2, 0))\n",
        "print('Label', image_dataset_sub15[6000]['Label'])"
      ],
      "execution_count": 0,
      "outputs": []
    },
    {
      "cell_type": "code",
      "metadata": {
        "id": "RSHKXsn97vAY",
        "colab_type": "code",
        "colab": {}
      },
      "source": [
        "vgg16Net = models.vgg16(pretrained=True) \n",
        "vgg16Net.classifier  = nn.Sequential(nn.Linear(512 * 7 * 7, 4096))\n",
        "layer = vgg16Net._modules.get('classifier')\n",
        "vgg16Net.eval()"
      ],
      "execution_count": 0,
      "outputs": []
    },
    {
      "cell_type": "code",
      "metadata": {
        "id": "2Y9Fsd-G2I2m",
        "colab_type": "code",
        "colab": {}
      },
      "source": [
        "\n",
        "# #let try this features thing\n",
        "def get_vectors(loader, model):\n",
        "    print('changed')\n",
        "    all_features = []\n",
        "    all_labels = []\n",
        "\n",
        "    for i_batch, data in tqdm(enumerate(loader), total=len(loader)):\n",
        "\n",
        "        inputs, labels = data['image'].cuda(), data['Label'].cuda()\n",
        "        my_embedding = torch.zeros(len(inputs),4096)\n",
        "        \n",
        "        def copy_data(m, i, o):\n",
        "            my_embedding.copy_(o.data)\n",
        "        \n",
        "        h = layer.register_forward_hook(copy_data)\n",
        "\n",
        "        model(inputs.cuda())\n",
        "        h.remove()\n",
        "\n",
        "        all_features.append(my_embedding)\n",
        "        all_labels.append(data['Label'][0])\n",
        "\n",
        "        print(data['Label'])\n",
        "\n",
        "    return all_features,all_labels\n",
        "\n"
      ],
      "execution_count": 0,
      "outputs": []
    },
    {
      "cell_type": "code",
      "metadata": {
        "id": "mEtiUVqtphTo",
        "colab_type": "code",
        "colab": {}
      },
      "source": [
        "vgg16Net = vgg16Net.cuda()\n",
        "vec, vec1 = get_vectors(image_loader, vgg16Net)"
      ],
      "execution_count": 0,
      "outputs": []
    },
    {
      "cell_type": "code",
      "metadata": {
        "id": "48ZbokEfVWya",
        "colab_type": "code",
        "colab": {
          "base_uri": "https://localhost:8080/",
          "height": 33
        },
        "outputId": "a0b2c3e5-d9c0-478a-d459-359236e9ef27"
      },
      "source": [
        "print(vec[0].shape)"
      ],
      "execution_count": 28,
      "outputs": [
        {
          "output_type": "stream",
          "text": [
            "torch.Size([25, 4096])\n"
          ],
          "name": "stdout"
        }
      ]
    },
    {
      "cell_type": "markdown",
      "metadata": {
        "colab_type": "text",
        "id": "UN74WLWpl7zQ"
      },
      "source": [
        "***\n",
        "***\n",
        "## **Problem 2.** Modelling"
      ]
    },
    {
      "cell_type": "code",
      "metadata": {
        "id": "zuHfyTohXQn0",
        "colab_type": "code",
        "colab": {}
      },
      "source": [
        "#SPLIT THE DATA INTO TRAIN AND TEST\n",
        "#vec - all features\n",
        "#vec, vec1\n",
        "split_id = int(0.7 * len(vec))\n",
        "train_features, test_features = vec[:split_id], vec[split_id:]\n",
        "train_labels, test_labels = vec1[:split_id], vec2[split_id:]"
      ],
      "execution_count": 0,
      "outputs": []
    },
    {
      "cell_type": "code",
      "metadata": {
        "id": "6zMxN_ZTZzbD",
        "colab_type": "code",
        "colab": {}
      },
      "source": [
        "import torch\n",
        "from torch.utils.data import TensorDataset, DataLoader\n",
        "import torch.nn as nn\n",
        "\n",
        "all_data = TensorDataset(torch.stack(vec), torch.stack(vec1))\n",
        "train_data = TensorDataset(torch.stack(train_features), torch.stack(train_labels))\n",
        "test_data = TensorDataset(torch.stack(test_features), torch.stack(test_labels))\n"
      ],
      "execution_count": 0,
      "outputs": []
    },
    {
      "cell_type": "code",
      "metadata": {
        "id": "KCphaRDRs6_0",
        "colab_type": "code",
        "colab": {}
      },
      "source": [
        "batch_size = 5\n",
        "\n",
        "all_loader = DataLoader(all_data, shuffle=True, batch_size=batch_size)\n",
        "train_loader = DataLoader(train_data, shuffle=True, batch_size=batch_size)\n",
        "test_loader = DataLoader(test_data, shuffle=True, batch_size=batch_size)"
      ],
      "execution_count": 0,
      "outputs": []
    },
    {
      "cell_type": "code",
      "metadata": {
        "id": "I2C7WzGta5kI",
        "colab_type": "code",
        "colab": {
          "base_uri": "https://localhost:8080/",
          "height": 33
        },
        "outputId": "7e3b9477-4985-4a24-a979-379ab58bdc75"
      },
      "source": [
        "train_data[0][0].shape"
      ],
      "execution_count": 140,
      "outputs": [
        {
          "output_type": "execute_result",
          "data": {
            "text/plain": [
              "torch.Size([25, 4096])"
            ]
          },
          "metadata": {
            "tags": []
          },
          "execution_count": 140
        }
      ]
    },
    {
      "cell_type": "code",
      "metadata": {
        "id": "NYf43LcTbJcu",
        "colab_type": "code",
        "colab": {}
      },
      "source": [
        "class MyNet(nn.Module):\n",
        "    #frames = 25\n",
        "    #output_size = 1\n",
        "    # embedding_dim = 4096\n",
        "\n",
        "    def __init__(self, frames, output_size, embedding_dim, hidden_dim, n_layers, drop_prob=0.5):\n",
        "        super(SentimentNet, self).__init__()\n",
        "\n",
        "        print('--inti--')\n",
        "        self.output_size = output_size\n",
        "        self.n_layers = n_layers\n",
        "        self.hidden_dim = hidden_dim\n",
        "    \n",
        "        self.lstm = nn.LSTM(embedding_dim, hidden_dim, n_layers, dropout=drop_prob, batch_first=True)\n",
        "        self.dropout = nn.Dropout(drop_prob)\n",
        "        self.fc = nn.Linear(hidden_dim, output_size)\n",
        "        self.sigmoid = nn.Sigmoid()\n",
        "        \n",
        "    def forward(self, x, hidden):\n",
        "        batch_size = x.size(0)\n",
        "        print(x.shape)\n",
        "        lstm_out, hidden = self.lstm(x, hidden)\n",
        "        lstm_out = lstm_out.contiguous().view(-1, self.hidden_dim)\n",
        "        out = self.dropout(lstm_out)\n",
        "        out = self.fc(out)\n",
        "        out = self.sigmoid(out)\n",
        "        \n",
        "        out = out.view(batch_size, -1)\n",
        "        out = out[:,-1]\n",
        "        return out, hidden\n",
        "\n",
        "    def hidden(self, batch_size):\n",
        "        weight = next(self.parameters()).data\n",
        "        # hidden = (weight.new(self.n_layers, batch_size, self.hidden_dim).zero_().cuda(),\n",
        "        #               weight.new(self.n_layers, batch_size, self.hidden_dim).zero_().cuda())\n",
        "        hidden = (weight.new(self.n_layers, batch_size, self.hidden_dim).zero_(),\n",
        "                      weight.new(self.n_layers, batch_size, self.hidden_dim).zero_())\n",
        "        return hidden"
      ],
      "execution_count": 0,
      "outputs": []
    },
    {
      "cell_type": "code",
      "metadata": {
        "id": "3NJLqDh2cUlx",
        "colab_type": "code",
        "colab": {
          "base_uri": "https://localhost:8080/",
          "height": 33
        },
        "outputId": "c1f30bbe-2403-4892-e2fe-29b537e8693d"
      },
      "source": [
        "frames = 25+1\n",
        "output_size = 1\n",
        "embedding_dim = 4096\n",
        "hidden_dim = 128\n",
        "n_layers = 2\n",
        "\n",
        "model = MyNet(frames, output_size, embedding_dim, hidden_dim, n_layers)\n",
        "# model.cuda()\n",
        "\n",
        "criterion = nn.BCELoss()\n",
        "optimizer = torch.optim.Adam(model.parameters(), lr=0.005)"
      ],
      "execution_count": 165,
      "outputs": [
        {
          "output_type": "stream",
          "text": [
            "--inti--\n"
          ],
          "name": "stdout"
        }
      ]
    },
    {
      "cell_type": "code",
      "metadata": {
        "id": "5RKxgnzucUje",
        "colab_type": "code",
        "colab": {}
      },
      "source": [
        "epochs = 10\n",
        "#start at infinity\n",
        "valid_loss_min = np.Inf\n",
        "\n",
        "model.train()\n",
        "for i in range(epochs):\n",
        "    h = model.hidden(batch_size)\n",
        "    counter = 0\n",
        "    running_loss = 0\n",
        "\n",
        "    for inputs, labels in all_loader:\n",
        "\n",
        "        if(inputs.shape[0] != batch_size):\n",
        "            print('Validation - Input Shape Issue:',inputs.shape)\n",
        "            continue\n",
        "\n",
        "        counter += 1\n",
        "        h = tuple([e.data for e in h])\n",
        "        # inputs, labels = inputs.cuda(), labels.cuda()\n",
        "        # inputs, labels = inputs, labels\n",
        "        model.zero_grad()\n",
        "\n",
        "        output, h = model(inputs, h)\n",
        "        loss = criterion(output.squeeze(), labels.float())\n",
        "        loss.backward()\n",
        "        nn.utils.clip_grad_norm_(model.parameters(), 5)\n",
        "        optimizer.step()\n",
        "\n",
        "        running_loss += loss.item()\n",
        "        \n",
        "        if counter%10 == 0:\n",
        "            print('LOSS', counter + 1, running_loss / 10)\n",
        "            running_loss = 0.0\n"
      ],
      "execution_count": 0,
      "outputs": []
    },
    {
      "cell_type": "markdown",
      "metadata": {
        "colab_type": "text",
        "id": "Do5OSV9Mnmwy"
      },
      "source": [
        "* ##### **Print the size of your training and test data**"
      ]
    },
    {
      "cell_type": "code",
      "metadata": {
        "colab_type": "code",
        "id": "0EGU31IJn5_h",
        "colab": {
          "base_uri": "https://localhost:8080/",
          "height": 50
        },
        "outputId": "b908df8a-a303-4752-f818-adb982032074"
      },
      "source": [
        "# Don't hardcode the shape of train and test data\n",
        "#should be 169 and 73 - total = 242\n",
        "print('Len of training data is :', len(train_features))\n",
        "print('Len of test/validation data is :', len(test_features))"
      ],
      "execution_count": 152,
      "outputs": [
        {
          "output_type": "stream",
          "text": [
            "Shape of training data is : 169\n",
            "Shape of test/validation data is : 73\n"
          ],
          "name": "stdout"
        }
      ]
    },
    {
      "cell_type": "markdown",
      "metadata": {
        "colab_type": "text",
        "id": "v0znm2TMmsDZ"
      },
      "source": [
        "---\n",
        "---\n",
        "## **Problem 3.** Evaluation"
      ]
    },
    {
      "cell_type": "code",
      "metadata": {
        "colab_type": "code",
        "id": "ARtMhcbXmsXk",
        "colab": {}
      },
      "source": [
        "\n",
        "test_losses = []\n",
        "num_correct = 0\n",
        "\n",
        "h = model.hidden(batch_size)\n",
        "\n",
        "model.eval()\n",
        "for inputs, labels in test_loader:\n",
        "    h = tuple([each.data for each in h])\n",
        "    inputs, labels = inputs, labels\n",
        "    output, h = model(inputs, h)\n",
        "    \n",
        "    test_loss = criterion(output.squeeze(), labels)\n",
        "    test_losses.append(test_loss.item())\n",
        "\n",
        "    pred = torch.round(output.squeeze()) \n",
        "\n",
        "    correct_tensor = pred.eq(labels.float().view_as(pred))\n",
        "    correct = np.squeeze(correct_tensor.cpu().numpy())\n",
        "    num_correct += np.sum(correct)\n",
        "\n",
        "print(\"Test loss: \" np.mean(test_losses)))\n",
        "test_acc = num_correct/len(test_loader.dataset)\n",
        "print(\"Test accuracy: %\"test_acc*100)"
      ],
      "execution_count": 0,
      "outputs": []
    },
    {
      "cell_type": "markdown",
      "metadata": {
        "id": "JbzpDeRRNuHj",
        "colab_type": "text"
      },
      "source": [
        "## **Bonus**\n"
      ]
    },
    {
      "cell_type": "markdown",
      "metadata": {
        "colab_type": "text",
        "id": "jPrhLzuyN-rr"
      },
      "source": [
        "* ##### **Print the size of your training and test data**"
      ]
    },
    {
      "cell_type": "code",
      "metadata": {
        "id": "b8IR6zrwOENz",
        "colab_type": "code",
        "colab": {}
      },
      "source": [
        "# Don't hardcode the shape of train and test data\n",
        "print('Shape of training data is :', )\n",
        "print('Shape of test/validation data is :', )"
      ],
      "execution_count": 0,
      "outputs": []
    },
    {
      "cell_type": "markdown",
      "metadata": {
        "colab_type": "text",
        "id": "GAakVg8-OE_j"
      },
      "source": [
        "* ##### **Modelling and evaluation**"
      ]
    },
    {
      "cell_type": "code",
      "metadata": {
        "id": "QHbPzkcoObLb",
        "colab_type": "code",
        "colab": {}
      },
      "source": [
        "#Write your code for modelling and evaluation"
      ],
      "execution_count": 0,
      "outputs": []
    },
    {
      "cell_type": "markdown",
      "metadata": {
        "colab_type": "text",
        "id": "vb4Wlzw2jYcJ"
      },
      "source": [
        "## Submission\n",
        "---\n",
        "**Runnable source code in ipynb file and a pdf report are required**.\n",
        "\n",
        "The report should be of 3 to 4 pages describing what you have done and learned in this homework and report performance of your model. If you have tried multiple methods, please compare your results. If you are using any external code, please cite it in your report. Note that this homework is designed to help you explore and get familiar with the techniques. The final grading will be largely based on your prediction accuracy and the different methods you tried (different architectures and parameters).\n",
        "\n",
        "Please indicate clearly in your report what model you have tried, what techniques you applied to improve the performance and report their accuracies. The report should be concise and include the highlights of your efforts.\n",
        "The naming convention for report is **Surname_Givenname_SBUID_report*.pdf**\n",
        "\n",
        "When submitting your .zip file through blackboard, please\n",
        "-- name your .zip file as **Surname_Givenname_SBUID_hw*.zip**.\n",
        "\n",
        "This zip file should include:\n",
        "```\n",
        "Surname_Givenname_SBUID_hw*\n",
        "        |---Surname_Givenname_SBUID_hw*.ipynb\n",
        "        |---Surname_Givenname_SBUID_hw*.pdf\n",
        "        |---Surname_Givenname_SBUID_report*.pdf\n",
        "```\n",
        "\n",
        "For instance, student Michael Jordan should submit a zip file named \"Jordan_Michael_111134567_hw5.zip\" for homework5 in this structure:\n",
        "```\n",
        "Jordan_Michael_111134567_hw5\n",
        "        |---Jordan_Michael_111134567_hw5.ipynb\n",
        "        |---Jordan_Michael_111134567_hw5.pdf\n",
        "        |---Jordan_Michael_111134567_report*.pdf\n",
        "```\n",
        "\n",
        "The **Surname_Givenname_SBUID_hw*.pdf** should include a **google shared link**. To generate the **google shared link**, first create a folder named **Surname_Givenname_SBUID_hw*** in your Google Drive with your Stony Brook account. \n",
        "\n",
        "Then right click this folder, click ***Get shareable link***, in the People textfield, enter two TA's emails: ***bo.cao.1@stonybrook.edu*** and ***sayontan.ghosh@stonybrook.edu***. Make sure that TAs who have the link **can edit**, ***not just*** **can view**, and also **uncheck** the **Notify people** box.\n",
        "\n",
        "Colab has a good feature of version control, you should take advantage of this to save your work properly. However, the timestamp of the submission made in blackboard is the only one that we consider for grading. To be more specific, we will only grade the version of your code right before the timestamp of the submission made in blackboard. \n",
        "\n",
        "You are encouraged to post and answer questions on Piazza. Based on the amount of email that we have received in past years, there might be dealys in replying to personal emails. Please ask questions on Piazza and send emails only for personal issues.\n",
        "\n",
        "Be aware that your code will undergo plagiarism check both vertically and horizontally. Please do your own work."
      ]
    }
  ]
}